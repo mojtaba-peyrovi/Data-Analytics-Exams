{
 "cells": [
  {
   "cell_type": "code",
   "execution_count": 1,
   "metadata": {},
   "outputs": [],
   "source": [
    "import numpy as np\n",
    "import pandas as pd"
   ]
  },
  {
   "cell_type": "code",
   "execution_count": 2,
   "metadata": {},
   "outputs": [],
   "source": [
    "import matplotlib.pyplot as plt\n",
    "%matplotlib inline\n",
    "import seaborn as sns"
   ]
  },
  {
   "cell_type": "code",
   "execution_count": 3,
   "metadata": {},
   "outputs": [],
   "source": [
    "df = pd.read_excel('cleaned_data.xlsx')"
   ]
  },
  {
   "cell_type": "code",
   "execution_count": 4,
   "metadata": {},
   "outputs": [
    {
     "data": {
      "text/html": [
       "<div>\n",
       "<style scoped>\n",
       "    .dataframe tbody tr th:only-of-type {\n",
       "        vertical-align: middle;\n",
       "    }\n",
       "\n",
       "    .dataframe tbody tr th {\n",
       "        vertical-align: top;\n",
       "    }\n",
       "\n",
       "    .dataframe thead th {\n",
       "        text-align: right;\n",
       "    }\n",
       "</style>\n",
       "<table border=\"1\" class=\"dataframe\">\n",
       "  <thead>\n",
       "    <tr style=\"text-align: right;\">\n",
       "      <th></th>\n",
       "      <th>Customer ID</th>\n",
       "      <th>Status</th>\n",
       "      <th>days_ago_joined</th>\n",
       "      <th>Age</th>\n",
       "      <th>accum_points</th>\n",
       "      <th>points_per_day</th>\n",
       "      <th>days_ago_last_arrived</th>\n",
       "      <th>arrivals_count</th>\n",
       "      <th>Australia</th>\n",
       "      <th>China</th>\n",
       "      <th>...</th>\n",
       "      <th>Singapore</th>\n",
       "      <th>Taiwan</th>\n",
       "      <th>Thailand</th>\n",
       "      <th>United Arab Emirates</th>\n",
       "      <th>United States of America</th>\n",
       "      <th>Diamond</th>\n",
       "      <th>Jade</th>\n",
       "      <th>Platinum</th>\n",
       "      <th>Royal</th>\n",
       "      <th>Ruby</th>\n",
       "    </tr>\n",
       "  </thead>\n",
       "  <tbody>\n",
       "    <tr>\n",
       "      <th>0</th>\n",
       "      <td>1820</td>\n",
       "      <td>1</td>\n",
       "      <td>2364</td>\n",
       "      <td>53</td>\n",
       "      <td>1950</td>\n",
       "      <td>0.82</td>\n",
       "      <td>1655</td>\n",
       "      <td>2</td>\n",
       "      <td>0</td>\n",
       "      <td>0</td>\n",
       "      <td>...</td>\n",
       "      <td>0</td>\n",
       "      <td>0</td>\n",
       "      <td>1</td>\n",
       "      <td>0</td>\n",
       "      <td>0</td>\n",
       "      <td>1</td>\n",
       "      <td>0</td>\n",
       "      <td>0</td>\n",
       "      <td>0</td>\n",
       "      <td>0</td>\n",
       "    </tr>\n",
       "    <tr>\n",
       "      <th>1</th>\n",
       "      <td>1822</td>\n",
       "      <td>1</td>\n",
       "      <td>2364</td>\n",
       "      <td>38</td>\n",
       "      <td>22020</td>\n",
       "      <td>9.31</td>\n",
       "      <td>342</td>\n",
       "      <td>4</td>\n",
       "      <td>0</td>\n",
       "      <td>0</td>\n",
       "      <td>...</td>\n",
       "      <td>0</td>\n",
       "      <td>0</td>\n",
       "      <td>0</td>\n",
       "      <td>0</td>\n",
       "      <td>0</td>\n",
       "      <td>0</td>\n",
       "      <td>1</td>\n",
       "      <td>0</td>\n",
       "      <td>0</td>\n",
       "      <td>0</td>\n",
       "    </tr>\n",
       "    <tr>\n",
       "      <th>2</th>\n",
       "      <td>1823</td>\n",
       "      <td>1</td>\n",
       "      <td>2364</td>\n",
       "      <td>56</td>\n",
       "      <td>166590</td>\n",
       "      <td>70.47</td>\n",
       "      <td>554</td>\n",
       "      <td>15</td>\n",
       "      <td>1</td>\n",
       "      <td>0</td>\n",
       "      <td>...</td>\n",
       "      <td>0</td>\n",
       "      <td>0</td>\n",
       "      <td>0</td>\n",
       "      <td>0</td>\n",
       "      <td>0</td>\n",
       "      <td>0</td>\n",
       "      <td>0</td>\n",
       "      <td>1</td>\n",
       "      <td>0</td>\n",
       "      <td>0</td>\n",
       "    </tr>\n",
       "    <tr>\n",
       "      <th>3</th>\n",
       "      <td>1824</td>\n",
       "      <td>1</td>\n",
       "      <td>2364</td>\n",
       "      <td>45</td>\n",
       "      <td>64825</td>\n",
       "      <td>27.42</td>\n",
       "      <td>38</td>\n",
       "      <td>13</td>\n",
       "      <td>0</td>\n",
       "      <td>0</td>\n",
       "      <td>...</td>\n",
       "      <td>0</td>\n",
       "      <td>0</td>\n",
       "      <td>0</td>\n",
       "      <td>0</td>\n",
       "      <td>0</td>\n",
       "      <td>1</td>\n",
       "      <td>0</td>\n",
       "      <td>0</td>\n",
       "      <td>0</td>\n",
       "      <td>0</td>\n",
       "    </tr>\n",
       "    <tr>\n",
       "      <th>4</th>\n",
       "      <td>1825</td>\n",
       "      <td>1</td>\n",
       "      <td>2364</td>\n",
       "      <td>41</td>\n",
       "      <td>52119</td>\n",
       "      <td>22.05</td>\n",
       "      <td>206</td>\n",
       "      <td>7</td>\n",
       "      <td>0</td>\n",
       "      <td>0</td>\n",
       "      <td>...</td>\n",
       "      <td>1</td>\n",
       "      <td>0</td>\n",
       "      <td>0</td>\n",
       "      <td>0</td>\n",
       "      <td>0</td>\n",
       "      <td>1</td>\n",
       "      <td>0</td>\n",
       "      <td>0</td>\n",
       "      <td>0</td>\n",
       "      <td>0</td>\n",
       "    </tr>\n",
       "  </tbody>\n",
       "</table>\n",
       "<p>5 rows × 25 columns</p>\n",
       "</div>"
      ],
      "text/plain": [
       "   Customer ID  Status  days_ago_joined  Age  accum_points  points_per_day  \\\n",
       "0         1820       1             2364   53          1950            0.82   \n",
       "1         1822       1             2364   38         22020            9.31   \n",
       "2         1823       1             2364   56        166590           70.47   \n",
       "3         1824       1             2364   45         64825           27.42   \n",
       "4         1825       1             2364   41         52119           22.05   \n",
       "\n",
       "   days_ago_last_arrived  arrivals_count  Australia  China  ...   Singapore  \\\n",
       "0                   1655               2          0      0  ...           0   \n",
       "1                    342               4          0      0  ...           0   \n",
       "2                    554              15          1      0  ...           0   \n",
       "3                     38              13          0      0  ...           0   \n",
       "4                    206               7          0      0  ...           1   \n",
       "\n",
       "   Taiwan  Thailand  United Arab Emirates  United States of America  Diamond  \\\n",
       "0       0         1                     0                         0        1   \n",
       "1       0         0                     0                         0        0   \n",
       "2       0         0                     0                         0        0   \n",
       "3       0         0                     0                         0        1   \n",
       "4       0         0                     0                         0        1   \n",
       "\n",
       "   Jade  Platinum  Royal  Ruby  \n",
       "0     0         0      0     0  \n",
       "1     1         0      0     0  \n",
       "2     0         1      0     0  \n",
       "3     0         0      0     0  \n",
       "4     0         0      0     0  \n",
       "\n",
       "[5 rows x 25 columns]"
      ]
     },
     "execution_count": 4,
     "metadata": {},
     "output_type": "execute_result"
    }
   ],
   "source": [
    "df.head()"
   ]
  },
  {
   "cell_type": "code",
   "execution_count": 5,
   "metadata": {},
   "outputs": [],
   "source": [
    "from sklearn.preprocessing import StandardScaler"
   ]
  },
  {
   "cell_type": "code",
   "execution_count": 6,
   "metadata": {},
   "outputs": [],
   "source": [
    "scaler = StandardScaler()"
   ]
  },
  {
   "cell_type": "code",
   "execution_count": 7,
   "metadata": {},
   "outputs": [
    {
     "data": {
      "text/plain": [
       "StandardScaler(copy=True, with_mean=True, with_std=True)"
      ]
     },
     "execution_count": 7,
     "metadata": {},
     "output_type": "execute_result"
    }
   ],
   "source": [
    "scaler.fit(df.drop(['Status','Customer ID'],axis=1))"
   ]
  },
  {
   "cell_type": "code",
   "execution_count": 8,
   "metadata": {},
   "outputs": [],
   "source": [
    "scaled_features = scaler.transform(df.drop(['Status','Customer ID'],axis=1))"
   ]
  },
  {
   "cell_type": "code",
   "execution_count": 9,
   "metadata": {},
   "outputs": [
    {
     "data": {
      "text/plain": [
       "array([[ 1.89770348,  1.01897528, -0.73323638, ..., -0.18635536,\n",
       "        -0.06882001, -0.50023568],\n",
       "       [ 1.89770348, -0.60836788, -0.10705163, ..., -0.18635536,\n",
       "        -0.06882001, -0.50023568],\n",
       "       [ 1.89770348,  1.34444392,  4.40353773, ...,  5.36609204,\n",
       "        -0.06882001, -0.50023568],\n",
       "       ...,\n",
       "       [-1.5115507 , -1.25930514, -0.79407645, ..., -0.18635536,\n",
       "        -0.06882001, -0.50023568],\n",
       "       [-1.5115507 , -0.93383651, -0.79407645, ..., -0.18635536,\n",
       "        -0.06882001, -0.50023568],\n",
       "       [-1.5115507 , -1.04232606, -0.79407645, ..., -0.18635536,\n",
       "        -0.06882001, -0.50023568]])"
      ]
     },
     "execution_count": 9,
     "metadata": {},
     "output_type": "execute_result"
    }
   ],
   "source": [
    "scaled_features"
   ]
  },
  {
   "cell_type": "code",
   "execution_count": 10,
   "metadata": {},
   "outputs": [],
   "source": [
    "newDf = pd.DataFrame(scaled_features,columns=df.columns[2:])"
   ]
  },
  {
   "cell_type": "code",
   "execution_count": 11,
   "metadata": {},
   "outputs": [
    {
     "data": {
      "text/html": [
       "<div>\n",
       "<style scoped>\n",
       "    .dataframe tbody tr th:only-of-type {\n",
       "        vertical-align: middle;\n",
       "    }\n",
       "\n",
       "    .dataframe tbody tr th {\n",
       "        vertical-align: top;\n",
       "    }\n",
       "\n",
       "    .dataframe thead th {\n",
       "        text-align: right;\n",
       "    }\n",
       "</style>\n",
       "<table border=\"1\" class=\"dataframe\">\n",
       "  <thead>\n",
       "    <tr style=\"text-align: right;\">\n",
       "      <th></th>\n",
       "      <th>days_ago_joined</th>\n",
       "      <th>Age</th>\n",
       "      <th>accum_points</th>\n",
       "      <th>points_per_day</th>\n",
       "      <th>days_ago_last_arrived</th>\n",
       "      <th>arrivals_count</th>\n",
       "      <th>Australia</th>\n",
       "      <th>China</th>\n",
       "      <th>Hong Kong</th>\n",
       "      <th>Indonesia</th>\n",
       "      <th>...</th>\n",
       "      <th>Singapore</th>\n",
       "      <th>Taiwan</th>\n",
       "      <th>Thailand</th>\n",
       "      <th>United Arab Emirates</th>\n",
       "      <th>United States of America</th>\n",
       "      <th>Diamond</th>\n",
       "      <th>Jade</th>\n",
       "      <th>Platinum</th>\n",
       "      <th>Royal</th>\n",
       "      <th>Ruby</th>\n",
       "    </tr>\n",
       "  </thead>\n",
       "  <tbody>\n",
       "    <tr>\n",
       "      <th>0</th>\n",
       "      <td>1.897703</td>\n",
       "      <td>1.018975</td>\n",
       "      <td>-0.733236</td>\n",
       "      <td>-0.710453</td>\n",
       "      <td>3.528399</td>\n",
       "      <td>-0.526935</td>\n",
       "      <td>-0.158206</td>\n",
       "      <td>-0.92082</td>\n",
       "      <td>-0.31183</td>\n",
       "      <td>-0.122572</td>\n",
       "      <td>...</td>\n",
       "      <td>-0.297415</td>\n",
       "      <td>-0.186626</td>\n",
       "      <td>2.624166</td>\n",
       "      <td>-0.137209</td>\n",
       "      <td>-0.135775</td>\n",
       "      <td>1.386376</td>\n",
       "      <td>-0.849821</td>\n",
       "      <td>-0.186355</td>\n",
       "      <td>-0.06882</td>\n",
       "      <td>-0.500236</td>\n",
       "    </tr>\n",
       "    <tr>\n",
       "      <th>1</th>\n",
       "      <td>1.897703</td>\n",
       "      <td>-0.608368</td>\n",
       "      <td>-0.107052</td>\n",
       "      <td>-0.456516</td>\n",
       "      <td>0.222211</td>\n",
       "      <td>-0.104103</td>\n",
       "      <td>-0.158206</td>\n",
       "      <td>-0.92082</td>\n",
       "      <td>-0.31183</td>\n",
       "      <td>-0.122572</td>\n",
       "      <td>...</td>\n",
       "      <td>-0.297415</td>\n",
       "      <td>-0.186626</td>\n",
       "      <td>-0.381074</td>\n",
       "      <td>-0.137209</td>\n",
       "      <td>-0.135775</td>\n",
       "      <td>-0.721305</td>\n",
       "      <td>1.176719</td>\n",
       "      <td>-0.186355</td>\n",
       "      <td>-0.06882</td>\n",
       "      <td>-0.500236</td>\n",
       "    </tr>\n",
       "    <tr>\n",
       "      <th>2</th>\n",
       "      <td>1.897703</td>\n",
       "      <td>1.344444</td>\n",
       "      <td>4.403538</td>\n",
       "      <td>1.372786</td>\n",
       "      <td>0.756035</td>\n",
       "      <td>2.221469</td>\n",
       "      <td>6.320891</td>\n",
       "      <td>-0.92082</td>\n",
       "      <td>-0.31183</td>\n",
       "      <td>-0.122572</td>\n",
       "      <td>...</td>\n",
       "      <td>-0.297415</td>\n",
       "      <td>-0.186626</td>\n",
       "      <td>-0.381074</td>\n",
       "      <td>-0.137209</td>\n",
       "      <td>-0.135775</td>\n",
       "      <td>-0.721305</td>\n",
       "      <td>-0.849821</td>\n",
       "      <td>5.366092</td>\n",
       "      <td>-0.06882</td>\n",
       "      <td>-0.500236</td>\n",
       "    </tr>\n",
       "    <tr>\n",
       "      <th>3</th>\n",
       "      <td>1.897703</td>\n",
       "      <td>0.151059</td>\n",
       "      <td>1.228466</td>\n",
       "      <td>0.085156</td>\n",
       "      <td>-0.543274</td>\n",
       "      <td>1.798638</td>\n",
       "      <td>-0.158206</td>\n",
       "      <td>-0.92082</td>\n",
       "      <td>-0.31183</td>\n",
       "      <td>-0.122572</td>\n",
       "      <td>...</td>\n",
       "      <td>-0.297415</td>\n",
       "      <td>-0.186626</td>\n",
       "      <td>-0.381074</td>\n",
       "      <td>-0.137209</td>\n",
       "      <td>-0.135775</td>\n",
       "      <td>1.386376</td>\n",
       "      <td>-0.849821</td>\n",
       "      <td>-0.186355</td>\n",
       "      <td>-0.06882</td>\n",
       "      <td>-0.500236</td>\n",
       "    </tr>\n",
       "    <tr>\n",
       "      <th>4</th>\n",
       "      <td>1.897703</td>\n",
       "      <td>-0.282899</td>\n",
       "      <td>0.832038</td>\n",
       "      <td>-0.075462</td>\n",
       "      <td>-0.120243</td>\n",
       "      <td>0.530144</td>\n",
       "      <td>-0.158206</td>\n",
       "      <td>-0.92082</td>\n",
       "      <td>-0.31183</td>\n",
       "      <td>-0.122572</td>\n",
       "      <td>...</td>\n",
       "      <td>3.362306</td>\n",
       "      <td>-0.186626</td>\n",
       "      <td>-0.381074</td>\n",
       "      <td>-0.137209</td>\n",
       "      <td>-0.135775</td>\n",
       "      <td>1.386376</td>\n",
       "      <td>-0.849821</td>\n",
       "      <td>-0.186355</td>\n",
       "      <td>-0.06882</td>\n",
       "      <td>-0.500236</td>\n",
       "    </tr>\n",
       "  </tbody>\n",
       "</table>\n",
       "<p>5 rows × 23 columns</p>\n",
       "</div>"
      ],
      "text/plain": [
       "   days_ago_joined       Age  accum_points  points_per_day  \\\n",
       "0         1.897703  1.018975     -0.733236       -0.710453   \n",
       "1         1.897703 -0.608368     -0.107052       -0.456516   \n",
       "2         1.897703  1.344444      4.403538        1.372786   \n",
       "3         1.897703  0.151059      1.228466        0.085156   \n",
       "4         1.897703 -0.282899      0.832038       -0.075462   \n",
       "\n",
       "   days_ago_last_arrived  arrivals_count  Australia    China  Hong Kong  \\\n",
       "0               3.528399       -0.526935  -0.158206 -0.92082   -0.31183   \n",
       "1               0.222211       -0.104103  -0.158206 -0.92082   -0.31183   \n",
       "2               0.756035        2.221469   6.320891 -0.92082   -0.31183   \n",
       "3              -0.543274        1.798638  -0.158206 -0.92082   -0.31183   \n",
       "4              -0.120243        0.530144  -0.158206 -0.92082   -0.31183   \n",
       "\n",
       "   Indonesia    ...     Singapore    Taiwan  Thailand  United Arab Emirates  \\\n",
       "0  -0.122572    ...     -0.297415 -0.186626  2.624166             -0.137209   \n",
       "1  -0.122572    ...     -0.297415 -0.186626 -0.381074             -0.137209   \n",
       "2  -0.122572    ...     -0.297415 -0.186626 -0.381074             -0.137209   \n",
       "3  -0.122572    ...     -0.297415 -0.186626 -0.381074             -0.137209   \n",
       "4  -0.122572    ...      3.362306 -0.186626 -0.381074             -0.137209   \n",
       "\n",
       "   United States of America   Diamond      Jade  Platinum    Royal      Ruby  \n",
       "0                 -0.135775  1.386376 -0.849821 -0.186355 -0.06882 -0.500236  \n",
       "1                 -0.135775 -0.721305  1.176719 -0.186355 -0.06882 -0.500236  \n",
       "2                 -0.135775 -0.721305 -0.849821  5.366092 -0.06882 -0.500236  \n",
       "3                 -0.135775  1.386376 -0.849821 -0.186355 -0.06882 -0.500236  \n",
       "4                 -0.135775  1.386376 -0.849821 -0.186355 -0.06882 -0.500236  \n",
       "\n",
       "[5 rows x 23 columns]"
      ]
     },
     "execution_count": 11,
     "metadata": {},
     "output_type": "execute_result"
    }
   ],
   "source": [
    "newDf.head()"
   ]
  },
  {
   "cell_type": "code",
   "execution_count": 12,
   "metadata": {},
   "outputs": [
    {
     "name": "stderr",
     "output_type": "stream",
     "text": [
      "c:\\users\\mojiway\\appdata\\local\\programs\\python\\python36-32\\lib\\site-packages\\sklearn\\cross_validation.py:41: DeprecationWarning: This module was deprecated in version 0.18 in favor of the model_selection module into which all the refactored classes and functions are moved. Also note that the interface of the new CV iterators are different from that of this module. This module will be removed in 0.20.\n",
      "  \"This module will be removed in 0.20.\", DeprecationWarning)\n"
     ]
    }
   ],
   "source": [
    "from sklearn.cross_validation import train_test_split"
   ]
  },
  {
   "cell_type": "code",
   "execution_count": 13,
   "metadata": {},
   "outputs": [],
   "source": [
    "X = newDf\n",
    "y = df['Status']\n",
    "X_train, X_test, y_train, y_test = train_test_split(X, y, test_size=0.3, random_state=101)\n"
   ]
  },
  {
   "cell_type": "code",
   "execution_count": 14,
   "metadata": {},
   "outputs": [],
   "source": [
    "from sklearn.neighbors import KNeighborsClassifier"
   ]
  },
  {
   "cell_type": "code",
   "execution_count": 15,
   "metadata": {},
   "outputs": [],
   "source": [
    "knn = KNeighborsClassifier(n_neighbors=1)"
   ]
  },
  {
   "cell_type": "code",
   "execution_count": 16,
   "metadata": {},
   "outputs": [
    {
     "data": {
      "text/plain": [
       "KNeighborsClassifier(algorithm='auto', leaf_size=30, metric='minkowski',\n",
       "           metric_params=None, n_jobs=1, n_neighbors=1, p=2,\n",
       "           weights='uniform')"
      ]
     },
     "execution_count": 16,
     "metadata": {},
     "output_type": "execute_result"
    }
   ],
   "source": [
    "knn.fit(X_train,y_train)"
   ]
  },
  {
   "cell_type": "code",
   "execution_count": 17,
   "metadata": {},
   "outputs": [],
   "source": [
    "pred = knn.predict(X_test)"
   ]
  },
  {
   "cell_type": "code",
   "execution_count": 18,
   "metadata": {},
   "outputs": [],
   "source": [
    "from sklearn.metrics import classification_report, confusion_matrix"
   ]
  },
  {
   "cell_type": "code",
   "execution_count": 19,
   "metadata": {},
   "outputs": [
    {
     "name": "stdout",
     "output_type": "stream",
     "text": [
      "[[ 166  195]\n",
      " [ 176 2646]]\n",
      "             precision    recall  f1-score   support\n",
      "\n",
      "          0       0.49      0.46      0.47       361\n",
      "          1       0.93      0.94      0.93      2822\n",
      "\n",
      "avg / total       0.88      0.88      0.88      3183\n",
      "\n"
     ]
    }
   ],
   "source": [
    "print(confusion_matrix(y_test,pred))\n",
    "print(classification_report(y_test,pred))"
   ]
  },
  {
   "cell_type": "code",
   "execution_count": 20,
   "metadata": {},
   "outputs": [],
   "source": [
    "error_rate = []\n",
    "for i in range(1,40):\n",
    "    knn = KNeighborsClassifier(n_neighbors=i)\n",
    "    knn.fit(X_train,y_train)\n",
    "    pred_i = knn.predict(X_test)\n",
    "    error_rate.append(np.mean(pred_i !=y_test))"
   ]
  },
  {
   "cell_type": "code",
   "execution_count": 21,
   "metadata": {},
   "outputs": [
    {
     "data": {
      "text/plain": [
       "Text(0,0.5,'Errors')"
      ]
     },
     "execution_count": 21,
     "metadata": {},
     "output_type": "execute_result"
    },
    {
     "data": {
      "image/png": "[encoded data removed]",
      "text/plain": [
       "<Figure size 1440x432 with 1 Axes>"
      ]
     },
     "metadata": {},
     "output_type": "display_data"
    }
   ],
   "source": [
    "plt.figure(figsize=(20,6))\n",
    "plt.plot(range(1,40),error_rate,color='green',marker='o',markerfacecolor='yellow',markersize=10)\n",
    "\n",
    "plt.xlabel('K')\n",
    "plt.ylabel('Errors')"
   ]
  },
  {
   "cell_type": "code",
   "execution_count": 22,
   "metadata": {},
   "outputs": [
    {
     "name": "stdout",
     "output_type": "stream",
     "text": [
      "[[ 160  201]\n",
      " [  66 2756]]\n",
      "\n",
      "\n",
      "             precision    recall  f1-score   support\n",
      "\n",
      "          0       0.71      0.44      0.55       361\n",
      "          1       0.93      0.98      0.95      2822\n",
      "\n",
      "avg / total       0.91      0.92      0.91      3183\n",
      "\n"
     ]
    }
   ],
   "source": [
    "knn = KNeighborsClassifier(n_neighbors=14)\n",
    "knn.fit(X_train,y_train)\n",
    "pred = knn.predict(X_test)\n",
    "print(confusion_matrix(y_test,pred))\n",
    "print('\\n')\n",
    "print(classification_report(y_test,pred))"
   ]
  },
  {
   "cell_type": "code",
   "execution_count": 25,
   "metadata": {},
   "outputs": [],
   "source": [
    "submission = pd.DataFrame({\n",
    "        \"prediction\": pred,\n",
    "        \"real churn\": y_test\n",
    "        \n",
    "    })\n",
    "submission.to_excel('submission_knn.xlsx', index=False)"
   ]
  },
  {
   "cell_type": "code",
   "execution_count": null,
   "metadata": {},
   "outputs": [],
   "source": []
  },
  {
   "cell_type": "code",
   "execution_count": null,
   "metadata": {},
   "outputs": [],
   "source": []
  },
  {
   "cell_type": "code",
   "execution_count": null,
   "metadata": {},
   "outputs": [],
   "source": []
  },
  {
   "cell_type": "code",
   "execution_count": null,
   "metadata": {},
   "outputs": [],
   "source": []
  }
 ],
 "metadata": {
  "kernelspec": {
   "display_name": "Python 3",
   "language": "python",
   "name": "python3"
  },
  "language_info": {
   "codemirror_mode": {
    "name": "ipython",
    "version": 3
   },
   "file_extension": ".py",
   "mimetype": "text/x-python",
   "name": "python",
   "nbconvert_exporter": "python",
   "pygments_lexer": "ipython3",
   "version": "3.6.5"
  }
 },
 "nbformat": 4,
 "nbformat_minor": 2
}
